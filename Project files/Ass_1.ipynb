{
  "nbformat": 4,
  "nbformat_minor": 0,
  "metadata": {
    "colab": {
      "provenance": []
    },
    "kernelspec": {
      "name": "python3",
      "display_name": "Python 3"
    },
    "language_info": {
      "name": "python"
    }
  },
  "cells": [
    {
      "cell_type": "code",
      "execution_count": null,
      "metadata": {
        "colab": {
          "base_uri": "https://localhost:8080/"
        },
        "id": "qFGWJzKDreYQ",
        "outputId": "ae7652af-8ce3-4594-af58-29272a1abc76"
      },
      "outputs": [
        {
          "output_type": "execute_result",
          "data": {
            "text/plain": [
              "[5, 4, 3, 2, 1, 6, 7, 8, 9, 10]"
            ]
          },
          "metadata": {},
          "execution_count": 1
        }
      ],
      "source": [
        "# task 1--\n",
        "\n",
        "a=[5,4,3,2,1]\n",
        "b=[6,7,8,9,10]\n",
        "\n",
        "a+b"
      ]
    },
    {
      "cell_type": "code",
      "source": [
        "# task 2--\n",
        "\n",
        "n =int(input(\"enter the number :\"))\n",
        "if(n%2) == 0:\n",
        "  print(\"Given number is even\".format(n))\n",
        "else:\n",
        "  print(\"Given number is odd\".format(n))"
      ],
      "metadata": {
        "colab": {
          "base_uri": "https://localhost:8080/"
        },
        "id": "6Vva5Qrlr9Ix",
        "outputId": "7fda26d3-f856-480e-94ae-17a659b09e9d"
      },
      "execution_count": null,
      "outputs": [
        {
          "output_type": "stream",
          "name": "stdout",
          "text": [
            "enter the number :5\n",
            "Given number is odd\n"
          ]
        }
      ]
    },
    {
      "cell_type": "code",
      "source": [
        "# task 3 --\n",
        "\n",
        "d1 = {'S.No':[1,2,3],'NAME':['naresh','sai','kali',],'ROLL_NO':[67,88,59]}\n",
        "d1"
      ],
      "metadata": {
        "colab": {
          "base_uri": "https://localhost:8080/"
        },
        "id": "iWsOsFxusJxf",
        "outputId": "dea80a3d-acb6-4aef-a9b3-30797efa7c39"
      },
      "execution_count": null,
      "outputs": [
        {
          "output_type": "execute_result",
          "data": {
            "text/plain": [
              "{'S.No': [1, 2, 3], 'NAME': ['naresh', 'sai', 'kali'], 'ROLL_NO': [67, 88, 59]}"
            ]
          },
          "metadata": {},
          "execution_count": 3
        }
      ]
    },
    {
      "cell_type": "code",
      "source": [
        "# TASK 4 :-\n",
        "\n",
        "n=int(input(\"Enter a number: \"))\n",
        "\n",
        "def evenorodd(n):\n",
        "\n",
        "    if(n%2==0):\n",
        "        print(\"Given no is an Even\")\n",
        "    else:\n",
        "        print(\"Given no is an Odd\")\n",
        "\n",
        "evenorodd(n);"
      ],
      "metadata": {
        "colab": {
          "base_uri": "https://localhost:8080/"
        },
        "id": "o9UOnF5lsZ2F",
        "outputId": "48cdd914-3a8b-4886-8b89-31937feaf101"
      },
      "execution_count": null,
      "outputs": [
        {
          "output_type": "stream",
          "name": "stdout",
          "text": [
            "Enter a number: 9\n",
            "Given no is an Odd\n"
          ]
        }
      ]
    },
    {
      "cell_type": "code",
      "source": [
        "# TASK 5 :-\n",
        "\n",
        "def sum(num):\n",
        "    result=0\n",
        "    for i in num:\n",
        "        result = result+i\n",
        "    return result\n",
        "\n",
        "num = [11,12,13,14,15]\n",
        "print(n)\n",
        "print(\"Sum of no: \",sum(num))"
      ],
      "metadata": {
        "colab": {
          "base_uri": "https://localhost:8080/"
        },
        "id": "5KaYZcGhso0E",
        "outputId": "fed4c7d1-7c43-4cfc-91cd-5892efa31361"
      },
      "execution_count": null,
      "outputs": [
        {
          "output_type": "stream",
          "name": "stdout",
          "text": [
            "[11, 12, 13, 14, 15]\n",
            "Sum of no:  65\n"
          ]
        }
      ]
    }
  ]
}